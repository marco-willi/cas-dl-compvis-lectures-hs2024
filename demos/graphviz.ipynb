{
 "cells": [
  {
   "cell_type": "code",
   "execution_count": 3,
   "metadata": {},
   "outputs": [
    {
     "name": "stdout",
     "output_type": "stream",
     "text": [
      "[[0.9807642  0.68482974 0.4809319 ]\n",
      " [0.39211752 0.34317802 0.72904971]]\n",
      "tensor([[0.9808, 0.6848, 0.4809],\n",
      "        [0.3921, 0.3432, 0.7290]], dtype=torch.float64)\n"
     ]
    }
   ],
   "source": [
    "import numpy as np\n",
    "\n",
    "np.random.seed(123)\n",
    "\n",
    "H, W = 2, 3\n",
    "\n",
    "a = np.random.random(size=(H, W))\n",
    "b = np.random.random(size=(H, W))\n",
    "c = np.random.random(size=(H, W))\n",
    "\n",
    "d = a * b\n",
    "e = d + c\n",
    "f = e.sum()\n",
    "\n",
    "df_de = 1.0\n",
    "de_dd = 1.0\n",
    "de_dc = c\n",
    "dd_da = b\n",
    "\n",
    "df_da = df_de * de_dd * dd_da\n",
    "\n",
    "print(df_da)\n",
    "\n",
    "import numpy as np\n",
    "import torch\n",
    "\n",
    "np.random.seed(123)\n",
    "\n",
    "H, W = 2, 3\n",
    "\n",
    "a = torch.tensor(a, requires_grad=True)\n",
    "b = torch.tensor(b, requires_grad=True)\n",
    "c = torch.tensor(c, requires_grad=True)\n",
    "\n",
    "d = a * b\n",
    "e = d + c\n",
    "f = e.sum()\n",
    "\n",
    "f.backward()\n",
    "print(a.grad)"
   ]
  },
  {
   "cell_type": "code",
   "execution_count": 6,
   "metadata": {},
   "outputs": [
    {
     "data": {
      "text/plain": [
       "'digraph {\\n\\tgraph [size=\"12,12\"]\\n\\tnode [align=left fontname=monospace fontsize=10 height=0.2 ranksep=0.1 shape=box style=filled]\\n\\t140071965225424 [label=\"f\\n ()\" fillcolor=darkolivegreen1]\\n\\t140071965093136 [label=SumBackward0]\\n\\t140071965094912 -> 140071965093136\\n\\t140071965094912 [label=AddBackward0]\\n\\t140072921169152 -> 140071965094912\\n\\t140072921169152 [label=MulBackward0]\\n\\t140072921167616 -> 140072921169152\\n\\t140071965225040 [label=\"a\\n (2, 3)\" fillcolor=lightblue]\\n\\t140071965225040 -> 140072921167616\\n\\t140072921167616 [label=AccumulateGrad]\\n\\t140072921168288 -> 140072921169152\\n\\t140072921095184 [label=\"b\\n (2, 3)\" fillcolor=lightblue]\\n\\t140072921095184 -> 140072921168288\\n\\t140072921168288 [label=AccumulateGrad]\\n\\t140072921167904 -> 140071965094912\\n\\t140071965223696 [label=\"c\\n (2, 3)\" fillcolor=lightblue]\\n\\t140071965223696 -> 140072921167904\\n\\t140072921167904 [label=AccumulateGrad]\\n\\t140071965093136 -> 140071965225424\\n}\\n'"
      ]
     },
     "execution_count": 6,
     "metadata": {},
     "output_type": "execute_result"
    }
   ],
   "source": [
    "from torchviz import make_dot\n",
    "a = make_dot(f, params={'a': a, 'b': b, 'c': c, 'f':f , 'd': d, 'e':e }).source\n",
    "print(a)"
   ]
  },
  {
   "cell_type": "code",
   "execution_count": null,
   "metadata": {},
   "outputs": [],
   "source": []
  }
 ],
 "metadata": {
  "kernelspec": {
   "display_name": "base",
   "language": "python",
   "name": "python3"
  },
  "language_info": {
   "codemirror_mode": {
    "name": "ipython",
    "version": 3
   },
   "file_extension": ".py",
   "mimetype": "text/x-python",
   "name": "python",
   "nbconvert_exporter": "python",
   "pygments_lexer": "ipython3",
   "version": "3.11.9"
  }
 },
 "nbformat": 4,
 "nbformat_minor": 2
}
