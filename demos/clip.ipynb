{
  "cells": [
    {
      "cell_type": "markdown",
      "metadata": {},
      "source": [
        "# CLIP\n",
        "\n",
        "Marco Willi (Institute for Data Science I4DS, FHNW)\n",
        "\n",
        "Import libraries."
      ],
      "id": "a3f20cc3-802c-4e7d-908a-5fb1e242ca94"
    },
    {
      "cell_type": "code",
      "execution_count": 1,
      "metadata": {},
      "outputs": [],
      "source": [
        "from PIL import Image\n",
        "import requests\n",
        "\n",
        "from transformers import CLIPProcessor, CLIPModel"
      ],
      "id": "602cdc96"
    },
    {
      "cell_type": "markdown",
      "metadata": {},
      "source": [
        "Specify cache dir to which the models are downloaded."
      ],
      "id": "7b8f60a9-7fee-433a-80ef-d5de48b52cec"
    },
    {
      "cell_type": "code",
      "execution_count": 2,
      "metadata": {},
      "outputs": [],
      "source": [
        "cache_dir=\"/home/jovyan/work/data/hf_cache\""
      ],
      "id": "e96779a8"
    },
    {
      "cell_type": "code",
      "execution_count": 3,
      "metadata": {},
      "outputs": [],
      "source": [
        "model = CLIPModel.from_pretrained(\"openai/clip-vit-base-patch32\", cache_dir=cache_dir)\n",
        "processor = CLIPProcessor.from_pretrained(\"openai/clip-vit-base-patch32\", cache_dir=cache_dir)"
      ],
      "id": "bf828e60"
    },
    {
      "cell_type": "markdown",
      "metadata": {},
      "source": [
        "Download an image."
      ],
      "id": "cab95bbf-8e55-4ecf-b528-ff4fe9716e98"
    },
    {
      "cell_type": "code",
      "execution_count": 4,
      "metadata": {},
      "outputs": [],
      "source": [
        "url = \"http://images.cocodataset.org/val2017/000000039769.jpg\"\n",
        "image = Image.open(requests.get(url, stream=True).raw)"
      ],
      "id": "088653cc"
    },
    {
      "cell_type": "code",
      "execution_count": 5,
      "metadata": {},
      "outputs": [],
      "source": [
        "image"
      ],
      "id": "38195718"
    },
    {
      "cell_type": "markdown",
      "metadata": {},
      "source": [
        "Create two prompts and process them along with the image."
      ],
      "id": "3d2aceb0-9584-41ef-be2c-7e104211a548"
    },
    {
      "cell_type": "code",
      "execution_count": 6,
      "metadata": {},
      "outputs": [],
      "source": [
        "inputs = processor(text=[\"a photo of a cat\", \"a photo of a dog\"], images=image, return_tensors=\"pt\", padding=True)"
      ],
      "id": "a5e99cf3"
    },
    {
      "cell_type": "markdown",
      "metadata": {},
      "source": [
        "Now we create embeddings for the prompts and the image."
      ],
      "id": "7ae59915-2f1e-433f-bd12-bdd72c6773fa"
    },
    {
      "cell_type": "code",
      "execution_count": 7,
      "metadata": {},
      "outputs": [],
      "source": [
        "outputs = model(**inputs)"
      ],
      "id": "c9130797"
    },
    {
      "cell_type": "markdown",
      "metadata": {},
      "source": [
        "We evaluate the similarities between the text and the image embeddings."
      ],
      "id": "290ed155-4a0e-4105-97c1-753753454ba4"
    },
    {
      "cell_type": "code",
      "execution_count": 8,
      "metadata": {},
      "outputs": [],
      "source": [
        "logits_per_image = outputs.logits_per_image  # this is the image-text similarity score\n",
        "probs = logits_per_image.softmax(dim=1)  # we can take the softmax to get the label probabilities"
      ],
      "id": "bbfefc97"
    },
    {
      "cell_type": "code",
      "execution_count": 9,
      "metadata": {},
      "outputs": [],
      "source": [
        "probs"
      ],
      "id": "64ffa3f6"
    }
  ],
  "nbformat": 4,
  "nbformat_minor": 5,
  "metadata": {
    "kernelspec": {
      "name": "python3",
      "display_name": "Python 3 (ipykernel)",
      "language": "python",
      "path": "/opt/hostedtoolcache/Python/3.11.9/x64/share/jupyter/kernels/python3"
    },
    "language_info": {
      "name": "python",
      "codemirror_mode": {
        "name": "ipython",
        "version": "3"
      },
      "file_extension": ".py",
      "mimetype": "text/x-python",
      "nbconvert_exporter": "python",
      "pygments_lexer": "ipython3",
      "version": "3.11.9"
    }
  }
}