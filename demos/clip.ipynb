{
  "cells": [
    {
      "cell_type": "markdown",
      "metadata": {},
      "source": [
        "# CLIP\n",
        "\n",
        "Marco Willi (Institute for Data Science I4DS, FHNW)\n",
        "\n",
        "Open it Google Colab:"
      ],
      "id": "d5d2bdcb-9141-4bf3-a45e-bd013efc29c4"
    },
    {
      "cell_type": "raw",
      "metadata": {
        "raw_mimetype": "text/html"
      },
      "source": [
        "<a target=\"_blank\" href=\"https://colab.research.google.com/github/marco-willi/cas-dl-compvis-lectures-hs2024/blob/main/demos/clip.ipynb\">\n",
        "  <img src=\"https://colab.research.google.com/assets/colab-badge.svg\" alt=\"Open In Colab\"/>\n",
        "</a>"
      ],
      "id": "6f839e31-dd55-42e4-bb69-f0205242dbb7"
    },
    {
      "cell_type": "markdown",
      "metadata": {},
      "source": [
        "Import libraries."
      ],
      "id": "b7e60144-8d36-40be-9f97-e9708009a7d0"
    },
    {
      "cell_type": "code",
      "execution_count": 1,
      "metadata": {},
      "outputs": [],
      "source": [
        "from PIL import Image\n",
        "import requests\n",
        "\n",
        "from transformers import CLIPProcessor, CLIPModel"
      ],
      "id": "914a5d8c"
    },
    {
      "cell_type": "markdown",
      "metadata": {},
      "source": [
        "Specify cache dir to which the models are downloaded."
      ],
      "id": "9fecaff8-b051-4b86-a451-937d27dfa2ca"
    },
    {
      "cell_type": "code",
      "execution_count": 2,
      "metadata": {},
      "outputs": [],
      "source": [
        "cache_dir=\"/home/jovyan/work/data/hf_cache\""
      ],
      "id": "6b1ce112"
    },
    {
      "cell_type": "code",
      "execution_count": 3,
      "metadata": {},
      "outputs": [],
      "source": [
        "model = CLIPModel.from_pretrained(\"openai/clip-vit-base-patch32\", cache_dir=cache_dir)\n",
        "processor = CLIPProcessor.from_pretrained(\"openai/clip-vit-base-patch32\", cache_dir=cache_dir)"
      ],
      "id": "b89921d2"
    },
    {
      "cell_type": "markdown",
      "metadata": {},
      "source": [
        "Download an image."
      ],
      "id": "ca5d01df-0bc3-474b-8a53-47f3432545f1"
    },
    {
      "cell_type": "code",
      "execution_count": 4,
      "metadata": {},
      "outputs": [],
      "source": [
        "url = \"http://images.cocodataset.org/val2017/000000039769.jpg\"\n",
        "image = Image.open(requests.get(url, stream=True).raw)"
      ],
      "id": "5ccf5d81"
    },
    {
      "cell_type": "code",
      "execution_count": 5,
      "metadata": {},
      "outputs": [],
      "source": [
        "image"
      ],
      "id": "0b89eb80"
    },
    {
      "cell_type": "markdown",
      "metadata": {},
      "source": [
        "Create two prompts and process them along with the image."
      ],
      "id": "c6480391-6713-4838-9a41-53224828621f"
    },
    {
      "cell_type": "code",
      "execution_count": 6,
      "metadata": {},
      "outputs": [],
      "source": [
        "inputs = processor(text=[\"a photo of a cat\", \"a photo of a dog\"], images=image, return_tensors=\"pt\", padding=True)"
      ],
      "id": "fb8724b6"
    },
    {
      "cell_type": "markdown",
      "metadata": {},
      "source": [
        "Now we create embeddings for the prompts and the image."
      ],
      "id": "7d092bc1-00b2-4d1e-b66d-96e800cd3929"
    },
    {
      "cell_type": "code",
      "execution_count": 7,
      "metadata": {},
      "outputs": [],
      "source": [
        "outputs = model(**inputs)"
      ],
      "id": "579606be"
    },
    {
      "cell_type": "markdown",
      "metadata": {},
      "source": [
        "We evaluate the similarities between the text and the image embeddings."
      ],
      "id": "d305316a-945f-41be-85df-5d96ae5a7c56"
    },
    {
      "cell_type": "code",
      "execution_count": 8,
      "metadata": {},
      "outputs": [],
      "source": [
        "logits_per_image = outputs.logits_per_image  # this is the image-text similarity score\n",
        "probs = logits_per_image.softmax(dim=1)  # we can take the softmax to get the label probabilities"
      ],
      "id": "9806c362"
    },
    {
      "cell_type": "code",
      "execution_count": 9,
      "metadata": {},
      "outputs": [],
      "source": [
        "probs"
      ],
      "id": "13319ebf"
    }
  ],
  "nbformat": 4,
  "nbformat_minor": 5,
  "metadata": {
    "kernelspec": {
      "name": "python3",
      "display_name": "Python 3 (ipykernel)",
      "language": "python",
      "path": "/opt/hostedtoolcache/Python/3.11.9/x64/share/jupyter/kernels/python3"
    },
    "language_info": {
      "name": "python",
      "codemirror_mode": {
        "name": "ipython",
        "version": "3"
      },
      "file_extension": ".py",
      "mimetype": "text/x-python",
      "nbconvert_exporter": "python",
      "pygments_lexer": "ipython3",
      "version": "3.11.9"
    }
  }
}