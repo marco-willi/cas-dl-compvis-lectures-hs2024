{
  "cells": [
    {
      "cell_type": "markdown",
      "metadata": {},
      "source": [
        "# CLIP\n",
        "\n",
        "Marco Willi (Institute for Data Science I4DS, FHNW)\n",
        "\n",
        "Open it Google Colab:"
      ],
      "id": "d2b13a9d-446b-49c0-b2ed-e9a55ec14ca1"
    },
    {
      "cell_type": "raw",
      "metadata": {
        "raw_mimetype": "text/html"
      },
      "source": [
        "<a target=\"_blank\" href=\"https://colab.research.google.com/github/marco-willi/cas-dl-compvis-lectures-hs2024/blob/main/demos/clip.ipynb\">\n",
        "  <img src=\"https://colab.research.google.com/assets/colab-badge.svg\" alt=\"Open In Colab\"/>\n",
        "</a>"
      ],
      "id": "6424d9c9-5b81-4914-9a82-3b60f0705e4f"
    },
    {
      "cell_type": "markdown",
      "metadata": {},
      "source": [
        "Import libraries."
      ],
      "id": "e154e241-a373-4e81-aec3-6a889c02051b"
    },
    {
      "cell_type": "code",
      "execution_count": 1,
      "metadata": {},
      "outputs": [],
      "source": [
        "from PIL import Image\n",
        "import requests\n",
        "\n",
        "from transformers import CLIPProcessor, CLIPModel"
      ],
      "id": "2a0c87b2"
    },
    {
      "cell_type": "markdown",
      "metadata": {},
      "source": [
        "Specify cache dir to which the models are downloaded."
      ],
      "id": "89c12706-cffd-455c-bfde-91cf8de68fe9"
    },
    {
      "cell_type": "code",
      "execution_count": 2,
      "metadata": {},
      "outputs": [],
      "source": [
        "cache_dir=\"/home/jovyan/work/data/hf_cache\""
      ],
      "id": "75ea3dd5"
    },
    {
      "cell_type": "code",
      "execution_count": 3,
      "metadata": {},
      "outputs": [],
      "source": [
        "model = CLIPModel.from_pretrained(\"openai/clip-vit-base-patch32\", cache_dir=cache_dir)\n",
        "processor = CLIPProcessor.from_pretrained(\"openai/clip-vit-base-patch32\", cache_dir=cache_dir)"
      ],
      "id": "22e53af7"
    },
    {
      "cell_type": "markdown",
      "metadata": {},
      "source": [
        "Download an image."
      ],
      "id": "dd344b57-20a2-4e34-a73e-f9156b723222"
    },
    {
      "cell_type": "code",
      "execution_count": 4,
      "metadata": {},
      "outputs": [],
      "source": [
        "url = \"http://images.cocodataset.org/val2017/000000039769.jpg\"\n",
        "image = Image.open(requests.get(url, stream=True).raw)"
      ],
      "id": "5c8c12b4"
    },
    {
      "cell_type": "code",
      "execution_count": 5,
      "metadata": {},
      "outputs": [],
      "source": [
        "image"
      ],
      "id": "f1b08321"
    },
    {
      "cell_type": "markdown",
      "metadata": {},
      "source": [
        "Create two prompts and process them along with the image."
      ],
      "id": "66bc61f4-961c-4424-96d1-e8a8dd2c62fc"
    },
    {
      "cell_type": "code",
      "execution_count": 6,
      "metadata": {},
      "outputs": [],
      "source": [
        "inputs = processor(text=[\"a photo of a cat\", \"a photo of a dog\"], images=image, return_tensors=\"pt\", padding=True)"
      ],
      "id": "d10bde41"
    },
    {
      "cell_type": "markdown",
      "metadata": {},
      "source": [
        "Now we create embeddings for the prompts and the image."
      ],
      "id": "5dce09e5-5e09-4660-a389-31fc10b2108b"
    },
    {
      "cell_type": "code",
      "execution_count": 7,
      "metadata": {},
      "outputs": [],
      "source": [
        "outputs = model(**inputs)"
      ],
      "id": "6e106a81"
    },
    {
      "cell_type": "markdown",
      "metadata": {},
      "source": [
        "We evaluate the similarities between the text and the image embeddings."
      ],
      "id": "ebd4b5d9-7549-4460-98aa-fb707ef4ac2d"
    },
    {
      "cell_type": "code",
      "execution_count": 8,
      "metadata": {},
      "outputs": [],
      "source": [
        "logits_per_image = outputs.logits_per_image  # this is the image-text similarity score\n",
        "probs = logits_per_image.softmax(dim=1)  # we can take the softmax to get the label probabilities"
      ],
      "id": "b04882d4"
    },
    {
      "cell_type": "code",
      "execution_count": 9,
      "metadata": {},
      "outputs": [],
      "source": [
        "probs"
      ],
      "id": "4b742299"
    }
  ],
  "nbformat": 4,
  "nbformat_minor": 5,
  "metadata": {
    "kernelspec": {
      "name": "python3",
      "display_name": "Python 3 (ipykernel)",
      "language": "python",
      "path": "/opt/hostedtoolcache/Python/3.11.9/x64/share/jupyter/kernels/python3"
    },
    "language_info": {
      "name": "python",
      "codemirror_mode": {
        "name": "ipython",
        "version": "3"
      },
      "file_extension": ".py",
      "mimetype": "text/x-python",
      "nbconvert_exporter": "python",
      "pygments_lexer": "ipython3",
      "version": "3.11.9"
    }
  }
}