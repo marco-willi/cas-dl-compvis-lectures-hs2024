{
  "cells": [
    {
      "cell_type": "markdown",
      "metadata": {},
      "source": [
        "# CLIP\n",
        "\n",
        "Marco Willi (Institute for Data Science I4DS, FHNW)\n",
        "\n",
        "Open it Google Colab:"
      ],
      "id": "f06b39a8-c15c-4891-8d24-bf414d0fca69"
    },
    {
      "cell_type": "raw",
      "metadata": {
        "raw_mimetype": "text/html"
      },
      "source": [
        "<a target=\"_blank\" href=\"https://colab.research.google.com/github/marco-willi/cas-dl-compvis-lectures-hs2024/blob/main/demos/clip.ipynb\">\n",
        "  <img src=\"https://colab.research.google.com/assets/colab-badge.svg\" alt=\"Open In Colab\"/>\n",
        "</a>"
      ],
      "id": "35e549c0-3892-4ff3-82ae-41558501d07d"
    },
    {
      "cell_type": "markdown",
      "metadata": {},
      "source": [
        "Import libraries."
      ],
      "id": "ca270da5-a280-420d-a7b5-9ffda6631956"
    },
    {
      "cell_type": "code",
      "execution_count": 1,
      "metadata": {},
      "outputs": [],
      "source": [
        "from PIL import Image\n",
        "import requests\n",
        "\n",
        "from transformers import CLIPProcessor, CLIPModel"
      ],
      "id": "1b514f90"
    },
    {
      "cell_type": "markdown",
      "metadata": {},
      "source": [
        "Specify cache dir to which the models are downloaded."
      ],
      "id": "52334fdc-884a-49b0-9e1c-6932dd7d5665"
    },
    {
      "cell_type": "code",
      "execution_count": 2,
      "metadata": {},
      "outputs": [],
      "source": [
        "cache_dir=\"/home/jovyan/work/data/hf_cache\""
      ],
      "id": "3f9c4e14"
    },
    {
      "cell_type": "code",
      "execution_count": 3,
      "metadata": {},
      "outputs": [],
      "source": [
        "model = CLIPModel.from_pretrained(\"openai/clip-vit-base-patch32\", cache_dir=cache_dir)\n",
        "processor = CLIPProcessor.from_pretrained(\"openai/clip-vit-base-patch32\", cache_dir=cache_dir)"
      ],
      "id": "b0fc99db"
    },
    {
      "cell_type": "markdown",
      "metadata": {},
      "source": [
        "Download an image."
      ],
      "id": "beaa1674-aeef-4da8-a4f1-b61a14d5e1ff"
    },
    {
      "cell_type": "code",
      "execution_count": 4,
      "metadata": {},
      "outputs": [],
      "source": [
        "url = \"http://images.cocodataset.org/val2017/000000039769.jpg\"\n",
        "image = Image.open(requests.get(url, stream=True).raw)"
      ],
      "id": "dba0da92"
    },
    {
      "cell_type": "code",
      "execution_count": 5,
      "metadata": {},
      "outputs": [],
      "source": [
        "image"
      ],
      "id": "d8b959e4"
    },
    {
      "cell_type": "markdown",
      "metadata": {},
      "source": [
        "Create two prompts and process them along with the image."
      ],
      "id": "94ea036e-0a62-4e45-839c-41774b4b7a2b"
    },
    {
      "cell_type": "code",
      "execution_count": 6,
      "metadata": {},
      "outputs": [],
      "source": [
        "inputs = processor(text=[\"a photo of a cat\", \"a photo of a dog\"], images=image, return_tensors=\"pt\", padding=True)"
      ],
      "id": "b147aec0"
    },
    {
      "cell_type": "markdown",
      "metadata": {},
      "source": [
        "Now we create embeddings for the prompts and the image."
      ],
      "id": "5edca671-4e59-4f3c-a0f9-0c77dd4b4d95"
    },
    {
      "cell_type": "code",
      "execution_count": 7,
      "metadata": {},
      "outputs": [],
      "source": [
        "outputs = model(**inputs)"
      ],
      "id": "fcf8f9b6"
    },
    {
      "cell_type": "markdown",
      "metadata": {},
      "source": [
        "We evaluate the similarities between the text and the image embeddings."
      ],
      "id": "92ffbb23-3136-48cd-9b61-1a617c50c851"
    },
    {
      "cell_type": "code",
      "execution_count": 8,
      "metadata": {},
      "outputs": [],
      "source": [
        "logits_per_image = outputs.logits_per_image  # this is the image-text similarity score\n",
        "probs = logits_per_image.softmax(dim=1)  # we can take the softmax to get the label probabilities"
      ],
      "id": "dcd05077"
    },
    {
      "cell_type": "code",
      "execution_count": 9,
      "metadata": {},
      "outputs": [],
      "source": [
        "probs"
      ],
      "id": "8bcc9654"
    }
  ],
  "nbformat": 4,
  "nbformat_minor": 5,
  "metadata": {
    "kernelspec": {
      "name": "python3",
      "display_name": "Python 3 (ipykernel)",
      "language": "python",
      "path": "/opt/hostedtoolcache/Python/3.11.9/x64/share/jupyter/kernels/python3"
    },
    "language_info": {
      "name": "python",
      "codemirror_mode": {
        "name": "ipython",
        "version": "3"
      },
      "file_extension": ".py",
      "mimetype": "text/x-python",
      "nbconvert_exporter": "python",
      "pygments_lexer": "ipython3",
      "version": "3.11.9"
    }
  }
}