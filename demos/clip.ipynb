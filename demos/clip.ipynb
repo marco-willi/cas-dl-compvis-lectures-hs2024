{
  "cells": [
    {
      "cell_type": "markdown",
      "metadata": {},
      "source": [
        "# CLIP\n",
        "\n",
        "Marco Willi (Institute for Data Science I4DS, FHNW)\n",
        "\n",
        "Import libraries."
      ],
      "id": "23646172-046a-41aa-ba65-e209aeb70f1d"
    },
    {
      "cell_type": "code",
      "execution_count": 1,
      "metadata": {},
      "outputs": [],
      "source": [
        "from PIL import Image\n",
        "import requests\n",
        "\n",
        "from transformers import CLIPProcessor, CLIPModel"
      ],
      "id": "4b1fe882"
    },
    {
      "cell_type": "markdown",
      "metadata": {},
      "source": [
        "Specify cache dir to which the models are downloaded."
      ],
      "id": "4465a77a-472b-47ec-86e5-e4f18c1ebb5a"
    },
    {
      "cell_type": "code",
      "execution_count": 2,
      "metadata": {},
      "outputs": [],
      "source": [
        "cache_dir=\"/home/jovyan/work/data/hf_cache\""
      ],
      "id": "44e3f707"
    },
    {
      "cell_type": "code",
      "execution_count": 3,
      "metadata": {},
      "outputs": [],
      "source": [
        "model = CLIPModel.from_pretrained(\"openai/clip-vit-base-patch32\", cache_dir=cache_dir)\n",
        "processor = CLIPProcessor.from_pretrained(\"openai/clip-vit-base-patch32\", cache_dir=cache_dir)"
      ],
      "id": "6a897edb"
    },
    {
      "cell_type": "markdown",
      "metadata": {},
      "source": [
        "Download an image."
      ],
      "id": "92481360-e26f-4f9b-9389-33170b312f69"
    },
    {
      "cell_type": "code",
      "execution_count": 4,
      "metadata": {},
      "outputs": [],
      "source": [
        "url = \"http://images.cocodataset.org/val2017/000000039769.jpg\"\n",
        "image = Image.open(requests.get(url, stream=True).raw)"
      ],
      "id": "34d9d2b5"
    },
    {
      "cell_type": "code",
      "execution_count": 5,
      "metadata": {},
      "outputs": [],
      "source": [
        "image"
      ],
      "id": "cc594e6e"
    },
    {
      "cell_type": "markdown",
      "metadata": {},
      "source": [
        "Create two prompts and process them along with the image."
      ],
      "id": "d80d07b8-7b3a-42c1-b965-0654191cca2c"
    },
    {
      "cell_type": "code",
      "execution_count": 6,
      "metadata": {},
      "outputs": [],
      "source": [
        "inputs = processor(text=[\"a photo of a cat\", \"a photo of a dog\"], images=image, return_tensors=\"pt\", padding=True)"
      ],
      "id": "e9a2aa46"
    },
    {
      "cell_type": "markdown",
      "metadata": {},
      "source": [
        "Now we create embeddings for the prompts and the image."
      ],
      "id": "f50f12bd-606d-4efa-bad3-250ffe5a2b0a"
    },
    {
      "cell_type": "code",
      "execution_count": 7,
      "metadata": {},
      "outputs": [],
      "source": [
        "outputs = model(**inputs)"
      ],
      "id": "aae19048"
    },
    {
      "cell_type": "markdown",
      "metadata": {},
      "source": [
        "We evaluate the similarities between the text and the image embeddings."
      ],
      "id": "b2135604-ed92-4f63-9c68-4a36e3b2fb9e"
    },
    {
      "cell_type": "code",
      "execution_count": 8,
      "metadata": {},
      "outputs": [],
      "source": [
        "logits_per_image = outputs.logits_per_image  # this is the image-text similarity score\n",
        "probs = logits_per_image.softmax(dim=1)  # we can take the softmax to get the label probabilities"
      ],
      "id": "801fb882"
    },
    {
      "cell_type": "code",
      "execution_count": 9,
      "metadata": {},
      "outputs": [],
      "source": [
        "probs"
      ],
      "id": "de79ea75"
    }
  ],
  "nbformat": 4,
  "nbformat_minor": 5,
  "metadata": {
    "kernelspec": {
      "name": "python3",
      "display_name": "Python 3 (ipykernel)",
      "language": "python",
      "path": "/opt/hostedtoolcache/Python/3.11.9/x64/share/jupyter/kernels/python3"
    },
    "language_info": {
      "name": "python",
      "codemirror_mode": {
        "name": "ipython",
        "version": "3"
      },
      "file_extension": ".py",
      "mimetype": "text/x-python",
      "nbconvert_exporter": "python",
      "pygments_lexer": "ipython3",
      "version": "3.11.9"
    }
  }
}